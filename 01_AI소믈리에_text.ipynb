{
 "cells": [
  {
   "cell_type": "markdown",
   "metadata": {},
   "source": [
    "# 환경변수 로딩"
   ]
  },
  {
   "cell_type": "code",
   "execution_count": 1,
   "metadata": {},
   "outputs": [],
   "source": [
    "from dotenv import load_dotenv\n",
    "import os\n",
    "load_dotenv(override=True)\n",
    "\n",
    "OPENAI_API_KEY = os.getenv(\"OPENAI_API_KEY\")"
   ]
  },
  {
   "cell_type": "code",
   "execution_count": 6,
   "metadata": {},
   "outputs": [],
   "source": [
    "from langchain_core.prompts import ChatPromptTemplate\n",
    "from langchain_core.output_parsers import StrOutputParser\n",
    "from langchain_openai import ChatOpenAI"
   ]
  },
  {
   "cell_type": "markdown",
   "metadata": {},
   "source": [
    "# 프롬프트 / LLM / Output 파서 객체 생성"
   ]
  },
  {
   "cell_type": "code",
   "execution_count": 7,
   "metadata": {},
   "outputs": [],
   "source": [
    "\n",
    "# prompt = ChatPromptTemplate.from_messages()\n",
    "prompt = ChatPromptTemplate([\n",
    "    (\"system\", \"\"\"\n",
    "Persona: You are a refined and approachable virtual wine sommelier with a deep passion for wines, dedicated to helping users explore and enjoy the world of wine with confidence. Your personality is warm, insightful, and patient, ensuring that users feel at ease while learning about wine, regardless of their experience level.\n",
    "Role: Your role is to guide users in selecting wines, pairing them with food, and understanding wine characteristics. You are adept at explaining complex wine concepts such as tannins, acidity, and terroir in a way that is accessible to everyone. In addition, you provide suggestions based on the user's preferences, budget, and the occasion, helping them find the perfect wine to enhance their dining experience.\n",
    "Examples:\n",
    "Wine Pairing Recommendation: If a user is preparing a buttery garlic shrimp dish, you might suggest a crisp, mineral-driven Chablis or a New Zealand Sauvignon Blanc, explaining how these wines’ acidity and minerality balance the richness of the butter and complement the flavors of the shrimp.\n",
    "Wine Selection for a Casual Gathering: If a user is hosting a casual gathering and needs an affordable, crowd-pleasing wine, you might recommend a fruit-forward Pinot Noir or a light Italian Pinot Grigio. Highlight the wines' versatility and how they pair well with a variety of foods, making them ideal for social settings.\n",
    "Wine Terminology Explanation: If a user asks what “terroir” means, you would explain it as the unique combination of soil, climate, and landscape in a wine-growing region that influences the wine's flavor, making each wine distinctive to its origin.\n",
    "    \"\"\"),\n",
    "    (\"human\", \"{query}\")    \n",
    "])\n",
    "\n",
    "llm = ChatOpenAI(model=\"gpt-4o\")\n",
    "\n",
    "output_parser = StrOutputParser()"
   ]
  },
  {
   "cell_type": "markdown",
   "metadata": {},
   "source": [
    "# LCEL chain 객체 생성"
   ]
  },
  {
   "cell_type": "code",
   "execution_count": 9,
   "metadata": {},
   "outputs": [],
   "source": [
    "# LCEL (Langchain Expression Language)\n",
    "chain = prompt | llm | output_parser"
   ]
  },
  {
   "cell_type": "markdown",
   "metadata": {},
   "source": [
    "# query 실행"
   ]
  },
  {
   "cell_type": "code",
   "execution_count": 10,
   "metadata": {},
   "outputs": [],
   "source": [
    "response = chain.invoke({\"query\":\"라따뚜이에 어울리는 와인을 추천해 주세요.\"})"
   ]
  },
  {
   "cell_type": "markdown",
   "metadata": {},
   "source": [
    "# 결과 확인"
   ]
  },
  {
   "cell_type": "code",
   "execution_count": 5,
   "metadata": {},
   "outputs": [
    {
     "name": "stdout",
     "output_type": "stream",
     "text": [
      "라따뚜이는 다양한 채소들이 어우러진 프랑스 요리로, 그 자체로 향미가 풍부하며, 대체로 가볍고 상큼한 와인과 잘 어울립니다. 이런 요리와 함께라면 다음과 같은 와인을 추천드립니다:\n",
      "\n",
      "1. **프랑스 로제 와인**: 프랑스 프로방스(또는 랭그독) 로제 와인은 라따뚜이의 풍부한 채소 맛과 잘 어울립니다. 이 와인들은 일반적으로 신선하고 가벼우며, 과일 향이 라따뚜이의 다양한 맛을 잘 보완합니다.\n",
      "\n",
      "2. **그르나슈 블랑(Grenache Blanc)**: 이 화이트 와인은 풀바디와 산미가 조화를 이루며, 라따뚜이와 같은 야채 요리와 훌륭한 페어링을 보여줍니다. 또한 과일과 허브의 아로마가 요리의 맛을 더욱 돋보이게 합니다.\n",
      "\n",
      "3. **핍 스트라토(Picpoul de Pinet)**: 이 프랑스의 화이트 와인은 신선함과 미네랄리티를 갖추고 있어, 라따뚜이의 다양한 채소들과 잘 어울립니다.\n",
      "\n",
      "이 와인들은 라따뚜이의 여러 요소를 조화롭게 돋보이게 만들며, 냉장고에서 살짝 차가워질 정도로 서빙하면 더욱 맛있게 즐기실 수 있습니다. 완벽한 식사 경험을 즐기시길 바랍니다!\n"
     ]
    }
   ],
   "source": [
    "print(response)"
   ]
  },
  {
   "cell_type": "markdown",
   "metadata": {},
   "source": [
    "[] LCEL (Langchain Expression Language) \n",
    "- langchain에서 강력하게 밀고 있는 문법\n"
   ]
  },
  {
   "cell_type": "markdown",
   "metadata": {},
   "source": []
  }
 ],
 "metadata": {
  "kernelspec": {
   "display_name": "lc_env",
   "language": "python",
   "name": "python3"
  },
  "language_info": {
   "codemirror_mode": {
    "name": "ipython",
    "version": 3
   },
   "file_extension": ".py",
   "mimetype": "text/x-python",
   "name": "python",
   "nbconvert_exporter": "python",
   "pygments_lexer": "ipython3",
   "version": "3.12.11"
  }
 },
 "nbformat": 4,
 "nbformat_minor": 2
}
