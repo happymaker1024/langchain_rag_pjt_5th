{
 "cells": [
  {
   "cell_type": "markdown",
   "metadata": {},
   "source": [
    "## RAG로 AI소믈리에 wine pairing"
   ]
  },
  {
   "cell_type": "code",
   "execution_count": 1,
   "metadata": {},
   "outputs": [
    {
     "data": {
      "text/plain": [
       "True"
      ]
     },
     "execution_count": 1,
     "metadata": {},
     "output_type": "execute_result"
    }
   ],
   "source": [
    "from dotenv import load_dotenv\n",
    "import os\n",
    "\n",
    "load_dotenv(override=True)"
   ]
  },
  {
   "cell_type": "code",
   "execution_count": 2,
   "metadata": {},
   "outputs": [],
   "source": [
    "from langchain_core.prompts import ChatPromptTemplate, HumanMessagePromptTemplate\n",
    "from langchain_core.output_parsers import StrOutputParser, JsonOutputParser\n",
    "from langchain_openai import ChatOpenAI"
   ]
  },
  {
   "cell_type": "markdown",
   "metadata": {},
   "source": [
    "## LLM을 통한 요리 이미지 -> 맛과 풍미 (image to text)"
   ]
  },
  {
   "cell_type": "code",
   "execution_count": 10,
   "metadata": {},
   "outputs": [],
   "source": [
    "# image 에서 맛(풍미)에 대한 설명 text 생성\n",
    "def describe_dish_flavor(query):\n",
    "    # pass\n",
    "    prompt = ChatPromptTemplate.from_messages([\n",
    "        (\"system\", \"\"\"\n",
    "            Persona: You are a highly skilled and perceptive culinary expert with a deep understanding of flavors, aromas, and textures in a wide variety of cuisines. Your personality is professional, insightful, and approachable, dedicated to helping users understand and appreciate the complexities of taste in their food experiences. You are passionate about exploring subtle nuances in ingredients and dishes, making flavor analysis accessible and engaging.\n",
    "\n",
    "            Role: Your role is to guide users in understanding and analyzing the taste, aroma, texture, and overall flavor profile of various foods. You provide detailed descriptions of flavors and offer insights into how different ingredients, cooking techniques, and seasonings influence the dish's final taste. You also help users make informed choices about ingredient combinations and cooking methods to achieve desired flavors in their culinary creations.\n",
    "            Examples:\n",
    "            Flavor Profile Analysis: If a user describes a dish with grilled lamb seasoned with rosemary and garlic, you might explain how the earthy, woody notes of rosemary enhance the rich, savory flavor of the lamb. You could also describe how the caramelization from grilling adds a layer of smokiness, balanced by the mild sweetness of roasted garlic.\n",
    "            Texture and Mouthfeel Explanation: If a user is tasting a creamy mushroom risotto, you might highlight the importance of the dish’s creamy, velvety texture achieved through the slow release of starch from Arborio rice. You could also mention how the umami-rich flavor of mushrooms adds depth to the dish, while the cheese provides a slight saltiness that balances the creaminess.\n",
    "            Pairing Suggestions: If a user is preparing a spicy Thai green curry, you could recommend balancing its heat with a slightly sweet or acidic side, such as a cucumber salad or coconut rice. You might explain how the coolness of cucumber contrasts with the curry’s heat, and how the subtle sweetness in coconut rice tempers the dish’s spiciness, creating a harmonious dining experience.\n",
    "         \"\"\"),\n",
    "        (\"human\", \"\"\"\n",
    "            이미지의 요리명과 풍미를 한 문장으로 요약해 주세요. 영어로 표현해 주세요.\n",
    "        \"\"\")\n",
    "    ])\n",
    "\n",
    "    # image url list\n",
    "    template = []\n",
    "\n",
    "    if query.get(\"image_urls\"):\n",
    "        template += [{\"image_url\": image_url} for image_url in query[\"image_urls\"]]\n",
    "\n",
    "    prompt += HumanMessagePromptTemplate.from_template(template)\n",
    "\n",
    "    llm = ChatOpenAI(model=\"gpt-4o\", temperature=0, max_tokens=4095)\n",
    "\n",
    "    chain = prompt | llm | StrOutputParser()\n",
    "\n",
    "    return chain"
   ]
  },
  {
   "cell_type": "code",
   "execution_count": 11,
   "metadata": {},
   "outputs": [],
   "source": [
    "from langchain_core.runnables import RunnableLambda\n",
    "\n",
    "r1 = RunnableLambda(describe_dish_flavor)"
   ]
  },
  {
   "cell_type": "code",
   "execution_count": 12,
   "metadata": {},
   "outputs": [
    {
     "name": "stdout",
     "output_type": "stream",
     "text": [
      "Grilled pork belly with kimchi offers a savory, smoky flavor complemented by the spicy, tangy notes of fermented cabbage.\n"
     ]
    }
   ],
   "source": [
    "url = 'https://sitem.ssgcdn.com/95/55/96/item/1000346965595_i1_750.jpg'\n",
    "res = r1.invoke({\n",
    "    \"image_urls\": [url]\n",
    "})\n",
    "print(res)"
   ]
  },
  {
   "cell_type": "markdown",
   "metadata": {},
   "source": [
    "- prompt : 전문적인 요리 사진을 얻을 수 있는 웹사이트를 알려줘"
   ]
  },
  {
   "cell_type": "markdown",
   "metadata": {},
   "source": [
    "## 사용자 프롬프트 vector화, 유사도 높은 top=5 찾기"
   ]
  },
  {
   "cell_type": "code",
   "execution_count": 13,
   "metadata": {},
   "outputs": [
    {
     "data": {
      "text/plain": [
       "[Document(id='c9cc39e4-2c5b-4f2c-9db1-efab4bb08ebd', metadata={'row': 91624.0, 'source': './wine_reviews/winemag-data-130k-v2.csv'}, page_content=': 91624\\ncountry: US\\ndescription: Very gamy and umami-rich aromas of bacon fat and animal hide meet with maple, boysenberry, white pepper, rosemary and teriyaki on the nose of this bottling. The savory and somewhat smoky touches thrive on the palate too, where roasted pork and charred plums combine with coffee bean and warm-toast flavors.\\ndesignation: \\npoints: 92\\nprice: 60.0\\nprovince: California\\nregion_1: Ballard Canyon\\nregion_2: Central Coast\\ntaster_name: Matt Kettmann\\ntaster_twitter_handle: @mattkettmann\\ntitle: Kimsey 2014 Grenache (Ballard Canyon)\\nvariety: Grenache\\nwinery: Kimsey'),\n",
       " Document(id='e9a0cf7c-8e84-4382-b54f-f8a760bb2c12', metadata={'row': 125577.0, 'source': './wine_reviews/winemag-data-130k-v2.csv'}, page_content=\": 125577\\ncountry: Germany\\ndescription: Spicy notes of cinnamon and sugar cookie lend warmth to this juicy, sweet-tart blend of yellow cherry, peach, and apricot flavors. It's unabashedly fruit forward yet balanced neatly with zesty acidity and a touch of bitter lime pith on the finish.\\ndesignation: Sweet\\npoints: 89\\nprice: 15.0\\nprovince: Mosel\\nregion_1: \\nregion_2: \\ntaster_name: Anna Lee C. Iijima\\ntaster_twitter_handle: \\ntitle: Pflücken 2015 Sweet Riesling (Mosel)\\nvariety: Riesling\\nwinery: Pflücken\"),\n",
       " Document(id='f204d955-ac67-4acd-81ba-c846250b6348', metadata={'row': 29260.0, 'source': './wine_reviews/winemag-data-130k-v2.csv'}, page_content=\": 29260\\ncountry: Germany\\ndescription: Tantalizing spice notes mix with aromas of quince and lanolin on this fabulous bargain Riesling. While intensely tropical on the palate, it's remarkably nuanced with hints of potpourri, white flowers, and a sharp, steely acidity. Perfect as an aperitif, or paired with spicy, herbaceous Asian cuisine.\\ndesignation: Kabinett\\npoints: 90\\nprice: 13.0\\nprovince: Mosel\\nregion_1: \\nregion_2: \\ntaster_name: Anna Lee C. Iijima\\ntaster_twitter_handle: \\ntitle: Karl Kaspar 2010 Kabinett Riesling (Mosel)\\nvariety: Riesling\\nwinery: Karl Kaspar\"),\n",
       " Document(id='9d398fc1-f604-4369-b627-9c503afff581', metadata={'row': 113865.0, 'source': './wine_reviews/winemag-data-130k-v2.csv'}, page_content=': 113865\\ncountry: US\\ndescription: Tarry aromas of elderberry, teriyaki beef, soy and purple flowers combine for an umami-driven nose on this bottling from a newer vineyard in the region, with winemaking by Matt Dees. The palate packs vibrantly tart plum juice and dried lavender flavors, held up by powerful acidity, impressive for young vines.\\ndesignation: \\npoints: 93\\nprice: 60.0\\nprovince: California\\nregion_1: Ballard Canyon\\nregion_2: Central Coast\\ntaster_name: Matt Kettmann\\ntaster_twitter_handle: @mattkettmann\\ntitle: Kimsey 2013 Syrah (Ballard Canyon)\\nvariety: Syrah\\nwinery: Kimsey'),\n",
       " Document(id='e680c687-99dd-4727-a352-0bfaf8bf6708', metadata={'row': 109235.0, 'source': './wine_reviews/winemag-data-130k-v2.csv'}, page_content=': 109235\\ncountry: US\\ndescription: Aromas of freshly cracked pepper and boysenberry introduce this wine. Once sipped, the promised complexity slips away, with plum flavors and even tannins but not much lingering finish. Serve with burgers and meatloaf.\\ndesignation: Kimberly\\npoints: 86\\nprice: 22.0\\nprovince: California\\nregion_1: Arroyo Seco\\nregion_2: Central Coast\\ntaster_name: Matt Kettmann\\ntaster_twitter_handle: @mattkettmann\\ntitle: McIntyre Vineyards 2012 Kimberly Merlot (Arroyo Seco)\\nvariety: Merlot\\nwinery: McIntyre Vineyards')]"
      ]
     },
     "execution_count": 13,
     "metadata": {},
     "output_type": "execute_result"
    }
   ],
   "source": [
    "from langchain_openai import OpenAIEmbeddings\n",
    "from langchain_pinecone import PineconeVectorStore\n",
    "import os\n",
    "\n",
    "embedding = OpenAIEmbeddings(model=os.getenv(\"OPENAI_EMBEDDING_MODEL\"))\n",
    "vector_store = PineconeVectorStore(\n",
    "    index_name=os.getenv(\"PINECONE_INDEX_NAME\"),\n",
    "    embedding=embedding,\n",
    "    namespace=os.getenv(\"PINECONE_NAMESPACE\")\n",
    ")\n",
    "\n",
    "# query = \"이 요리는 삼겹살과 김치로, 고소하고 육즙이 풍부한 삼겹살의 풍미가 매콤하고 새콤한 김치와 어우러져 조화로운 맛을 냅니다.\"\n",
    "query = \"This dish is made with pork belly and kimchi, and the rich, juicy flavor of the pork belly combines with the spicy, sour flavor of the kimchi to create a harmonious taste.\"\n",
    "vector_store.similarity_search(query, namespace=os.getenv(\"PINECONE_NAMESPACE\"), k=5)"
   ]
  },
  {
   "cell_type": "code",
   "execution_count": 14,
   "metadata": {},
   "outputs": [],
   "source": [
    "def search_wines(dish_flavor):\n",
    "    embedding = OpenAIEmbeddings(model=os.getenv(\"OPENAI_EMBEDDING_MODEL\"))\n",
    "    vector_store = PineconeVectorStore(\n",
    "        index_name=os.getenv(\"PINECONE_INDEX_NAME\"),\n",
    "        embedding=embedding,\n",
    "        namespace=os.getenv(\"PINECONE_NAMESPACE\")\n",
    "    )\n",
    "\n",
    "    results =  vector_store.similarity_search(dish_flavor, namespace=os.getenv(\"PINECONE_NAMESPACE\"), k=5)\n",
    "\n",
    "    return {\n",
    "        \"dish_flavor\": dish_flavor,\n",
    "        \"wine_reviews\": \"\\n\".join([doc.page_content for doc in results])\n",
    "    }\n",
    "\n",
    "# query = \"이 요리는 삼겹살과 김치로, 고소하고 육즙이 풍부한 삼겹살의 풍미가 매콤하고 새콤한 김치와 어우러져 조화로운 맛을 냅니다.\"\n",
    "\n",
    "# results = search_wines(query)\n",
    "\n",
    "# print(results.dish_flavor)\n",
    "# print(results.wine_reviews)"
   ]
  },
  {
   "cell_type": "markdown",
   "metadata": {},
   "source": [
    "## RunnableLambda로 실행"
   ]
  },
  {
   "cell_type": "code",
   "execution_count": 15,
   "metadata": {},
   "outputs": [
    {
     "name": "stdout",
     "output_type": "stream",
     "text": [
      "This dish is made with pork belly and kimchi, and the rich, juicy flavor of the pork belly combines with the spicy, sour flavor of the kimchi to create a harmonious taste.\n",
      ": 91624\n",
      "country: US\n",
      "description: Very gamy and umami-rich aromas of bacon fat and animal hide meet with maple, boysenberry, white pepper, rosemary and teriyaki on the nose of this bottling. The savory and somewhat smoky touches thrive on the palate too, where roasted pork and charred plums combine with coffee bean and warm-toast flavors.\n",
      "designation: \n",
      "points: 92\n",
      "price: 60.0\n",
      "province: California\n",
      "region_1: Ballard Canyon\n",
      "region_2: Central Coast\n",
      "taster_name: Matt Kettmann\n",
      "taster_twitter_handle: @mattkettmann\n",
      "title: Kimsey 2014 Grenache (Ballard Canyon)\n",
      "variety: Grenache\n",
      "winery: Kimsey\n",
      ": 125577\n",
      "country: Germany\n",
      "description: Spicy notes of cinnamon and sugar cookie lend warmth to this juicy, sweet-tart blend of yellow cherry, peach, and apricot flavors. It's unabashedly fruit forward yet balanced neatly with zesty acidity and a touch of bitter lime pith on the finish.\n",
      "designation: Sweet\n",
      "points: 89\n",
      "price: 15.0\n",
      "province: Mosel\n",
      "region_1: \n",
      "region_2: \n",
      "taster_name: Anna Lee C. Iijima\n",
      "taster_twitter_handle: \n",
      "title: Pflücken 2015 Sweet Riesling (Mosel)\n",
      "variety: Riesling\n",
      "winery: Pflücken\n",
      ": 29260\n",
      "country: Germany\n",
      "description: Tantalizing spice notes mix with aromas of quince and lanolin on this fabulous bargain Riesling. While intensely tropical on the palate, it's remarkably nuanced with hints of potpourri, white flowers, and a sharp, steely acidity. Perfect as an aperitif, or paired with spicy, herbaceous Asian cuisine.\n",
      "designation: Kabinett\n",
      "points: 90\n",
      "price: 13.0\n",
      "province: Mosel\n",
      "region_1: \n",
      "region_2: \n",
      "taster_name: Anna Lee C. Iijima\n",
      "taster_twitter_handle: \n",
      "title: Karl Kaspar 2010 Kabinett Riesling (Mosel)\n",
      "variety: Riesling\n",
      "winery: Karl Kaspar\n",
      ": 113865\n",
      "country: US\n",
      "description: Tarry aromas of elderberry, teriyaki beef, soy and purple flowers combine for an umami-driven nose on this bottling from a newer vineyard in the region, with winemaking by Matt Dees. The palate packs vibrantly tart plum juice and dried lavender flavors, held up by powerful acidity, impressive for young vines.\n",
      "designation: \n",
      "points: 93\n",
      "price: 60.0\n",
      "province: California\n",
      "region_1: Ballard Canyon\n",
      "region_2: Central Coast\n",
      "taster_name: Matt Kettmann\n",
      "taster_twitter_handle: @mattkettmann\n",
      "title: Kimsey 2013 Syrah (Ballard Canyon)\n",
      "variety: Syrah\n",
      "winery: Kimsey\n",
      ": 109235\n",
      "country: US\n",
      "description: Aromas of freshly cracked pepper and boysenberry introduce this wine. Once sipped, the promised complexity slips away, with plum flavors and even tannins but not much lingering finish. Serve with burgers and meatloaf.\n",
      "designation: Kimberly\n",
      "points: 86\n",
      "price: 22.0\n",
      "province: California\n",
      "region_1: Arroyo Seco\n",
      "region_2: Central Coast\n",
      "taster_name: Matt Kettmann\n",
      "taster_twitter_handle: @mattkettmann\n",
      "title: McIntyre Vineyards 2012 Kimberly Merlot (Arroyo Seco)\n",
      "variety: Merlot\n",
      "winery: McIntyre Vineyards\n"
     ]
    }
   ],
   "source": [
    "r2 = RunnableLambda(search_wines)\n",
    "query = \"This dish is made with pork belly and kimchi, and the rich, juicy flavor of the pork belly combines with the spicy, sour flavor of the kimchi to create a harmonious taste.\"\n",
    "# query = \"이 요리는 삼겹살과 김치로, 고소하고 육즙이 풍부한 삼겹살의 풍미가 매콤하고 새콤한 김치와 어우러져 조화로운 맛을 냅니다.\"\n",
    "res = r2.invoke(query)\n",
    "print(res.get(\"dish_flavor\"))\n",
    "print(res.get(\"wine_reviews\"))"
   ]
  },
  {
   "cell_type": "markdown",
   "metadata": {},
   "source": [
    "## r1, r2로 구성"
   ]
  },
  {
   "cell_type": "code",
   "execution_count": 16,
   "metadata": {},
   "outputs": [],
   "source": [
    "img_url = 'https://sitem.ssgcdn.com/95/55/96/item/1000346965595_i1_750.jpg'\n",
    "chain = r1 | r2\n",
    "res = chain.invoke({\n",
    "    \"image_urls\": [img_url]\n",
    "})"
   ]
  },
  {
   "cell_type": "code",
   "execution_count": 17,
   "metadata": {},
   "outputs": [
    {
     "name": "stdout",
     "output_type": "stream",
     "text": [
      "Grilled pork belly with kimchi offers a savory, smoky flavor complemented by the spicy, tangy notes of fermented cabbage.\n",
      ": 91624\n",
      "country: US\n",
      "description: Very gamy and umami-rich aromas of bacon fat and animal hide meet with maple, boysenberry, white pepper, rosemary and teriyaki on the nose of this bottling. The savory and somewhat smoky touches thrive on the palate too, where roasted pork and charred plums combine with coffee bean and warm-toast flavors.\n",
      "designation: \n",
      "points: 92\n",
      "price: 60.0\n",
      "province: California\n",
      "region_1: Ballard Canyon\n",
      "region_2: Central Coast\n",
      "taster_name: Matt Kettmann\n",
      "taster_twitter_handle: @mattkettmann\n",
      "title: Kimsey 2014 Grenache (Ballard Canyon)\n",
      "variety: Grenache\n",
      "winery: Kimsey\n",
      ": 45075\n",
      "country: New Zealand\n",
      "description: A mouthfilling, off-dry Pinot Gris, Kim Crawford's 2007 continues his success with this variety. Pear and citrus notes finish clean, a refreshing blend of sugar and acid. Drink now.\n",
      "designation: \n",
      "points: 87\n",
      "price: 17.0\n",
      "province: Marlborough\n",
      "region_1: \n",
      "region_2: \n",
      "taster_name: Joe Czerwinski\n",
      "taster_twitter_handle: @JoeCz\n",
      "title: Kim Crawford 2007 Pinot Gris (Marlborough)\n",
      "variety: Pinot Gris\n",
      "winery: Kim Crawford\n",
      ": 106158\n",
      "country: New Zealand\n",
      "description: This wine starts with typical Pinot Gris aromas of apple, pear and ginger, then picks up some citrusy flavors on the palate before ending on a note of orange zest. It's medium in weight, with a dry, silky feel as it glides across the palate.\n",
      "designation: \n",
      "points: 86\n",
      "price: 17.0\n",
      "province: Marlborough\n",
      "region_1: \n",
      "region_2: \n",
      "taster_name: Joe Czerwinski\n",
      "taster_twitter_handle: @JoeCz\n",
      "title: Kim Crawford 2016 Pinot Gris (Marlborough)\n",
      "variety: Pinot Gris\n",
      "winery: Kim Crawford\n",
      ": 125577\n",
      "country: Germany\n",
      "description: Spicy notes of cinnamon and sugar cookie lend warmth to this juicy, sweet-tart blend of yellow cherry, peach, and apricot flavors. It's unabashedly fruit forward yet balanced neatly with zesty acidity and a touch of bitter lime pith on the finish.\n",
      "designation: Sweet\n",
      "points: 89\n",
      "price: 15.0\n",
      "province: Mosel\n",
      "region_1: \n",
      "region_2: \n",
      "taster_name: Anna Lee C. Iijima\n",
      "taster_twitter_handle: \n",
      "title: Pflücken 2015 Sweet Riesling (Mosel)\n",
      "variety: Riesling\n",
      "winery: Pflücken\n",
      ": 2216\n",
      "country: New Zealand\n",
      "description: This is round and mouthfilling without being fat or blowsy, finishing fairly crisp and dry. Along the way, hints of apple and citrus alternate with almond skin and cinnamon, providing a delicate balance of fruity and savory.\n",
      "designation: \n",
      "points: 88\n",
      "price: 17.0\n",
      "province: Marlborough\n",
      "region_1: \n",
      "region_2: \n",
      "taster_name: Joe Czerwinski\n",
      "taster_twitter_handle: @JoeCz\n",
      "title: Kim Crawford 2014 Pinot Gris (Marlborough)\n",
      "variety: Pinot Gris\n",
      "winery: Kim Crawford\n"
     ]
    }
   ],
   "source": [
    "print(res.get(\"dish_flavor\"))\n",
    "print(res.get(\"wine_reviews\"))"
   ]
  },
  {
   "cell_type": "markdown",
   "metadata": {},
   "source": [
    "## 와인 추천"
   ]
  },
  {
   "cell_type": "code",
   "execution_count": 21,
   "metadata": {},
   "outputs": [],
   "source": [
    "def recommand_wines(query):\n",
    "    \n",
    "    prompt = ChatPromptTemplate.from_messages([\n",
    "        (\"system\", \"\"\"\n",
    "            Persona: You are a refined and approachable virtual wine sommelier with a deep passion for wines, dedicated to helping users explore and enjoy the world of wine with confidence. Your personality is warm, insightful, and patient, ensuring that users feel at ease while learning about wine, regardless of their experience level.\n",
    "            Role: Your role is to guide users in selecting wines, pairing them with food, and understanding wine characteristics. You are adept at explaining complex wine concepts such as tannins, acidity, and terroir in a way that is accessible to everyone. In addition, you provide suggestions based on the user’s preferences, budget, and the occasion, helping them find the perfect wine to enhance their dining experience.\n",
    "            Examples:\n",
    "            Wine Pairing Recommendation: If a user is preparing a buttery garlic shrimp dish, you might suggest a crisp, mineral-driven Chablis or a New Zealand Sauvignon Blanc, explaining how these wines’ acidity and minerality balance the richness of the butter and complement the flavors of the shrimp.\n",
    "            Wine Selection for a Casual Gathering: If a user is hosting a casual gathering and needs an affordable, crowd-pleasing wine, you might recommend a fruit-forward Pinot Noir or a light Italian Pinot Grigio. Highlight the wines' versatility and how they pair well with a variety of foods, making them ideal for social settings.\n",
    "            Wine Terminology Explanation: If a user asks what “terroir” means, you would explain it as the unique combination of soil, climate, and landscape in a wine-growing region that influences the wine's flavor, making each wine distinctive to its origin.\n",
    "            \"\"\"\n",
    "         ),\n",
    "        (\"human\", \"\"\"\n",
    "            와인 페어링 추천에 아래의 요리와 풍미, 와인 리뷰만을 참고하여 한글로 답변해 주세요.\n",
    "\n",
    "            요리와 풍미:\n",
    "            {dish_flavor}\n",
    "         \n",
    "            와인 리뷰:\n",
    "            {wine_reviews}\n",
    "         \n",
    "            답변은 다음과 같은 값으로 json 데이터로 리턴해주세요. 결과를 한글로 번역해 주세요.\n",
    "            recommend_wine :\n",
    "            recommend_reason :\n",
    "        \"\"\")\n",
    "    ])\n",
    "    \n",
    "    llm = ChatOpenAI(model=\"gpt-4o\", temperature=0, max_tokens=4095)\n",
    "    # chain = prompt | llm | StrOutputParser()\n",
    "    chain = prompt | llm | JsonOutputParser()\n",
    "\n",
    "    return chain\n"
   ]
  },
  {
   "cell_type": "code",
   "execution_count": 22,
   "metadata": {},
   "outputs": [],
   "source": [
    "r1 = RunnableLambda(describe_dish_flavor)\n",
    "r2 = RunnableLambda(search_wines)\n",
    "r3 = RunnableLambda(recommand_wines)\n",
    "\n",
    "chain = r1 | r2 | r3\n",
    "img_urls = ['https://sitem.ssgcdn.com/95/55/96/item/1000346965595_i1_750.jpg']\n",
    "res = chain.invoke({\n",
    "    \"image_urls\": img_urls\n",
    "})"
   ]
  },
  {
   "cell_type": "code",
   "execution_count": 23,
   "metadata": {},
   "outputs": [
    {
     "name": "stdout",
     "output_type": "stream",
     "text": [
      "{'recommend_wine': 'Kimsey 2014 Grenache (Ballard Canyon)', 'recommend_reason': '이 와인은 베이컨 지방과 동물 가죽의 감칠맛이 풍부한 아로마와 함께 메이플, 보이즌베리, 화이트 페퍼, 로즈마리, 테리야키의 향을 제공합니다. 그릴에 구운 돼지고기와 잘 어울리는 감칠맛과 약간의 훈제된 터치가 돋보이며, 구운 돼지고기와 김치의 풍미를 잘 보완합니다.'}\n"
     ]
    }
   ],
   "source": [
    "print(res)"
   ]
  },
  {
   "cell_type": "code",
   "execution_count": null,
   "metadata": {},
   "outputs": [],
   "source": []
  },
  {
   "cell_type": "code",
   "execution_count": null,
   "metadata": {},
   "outputs": [],
   "source": []
  },
  {
   "cell_type": "code",
   "execution_count": null,
   "metadata": {},
   "outputs": [],
   "source": []
  }
 ],
 "metadata": {
  "kernelspec": {
   "display_name": "lc_env",
   "language": "python",
   "name": "python3"
  },
  "language_info": {
   "codemirror_mode": {
    "name": "ipython",
    "version": 3
   },
   "file_extension": ".py",
   "mimetype": "text/x-python",
   "name": "python",
   "nbconvert_exporter": "python",
   "pygments_lexer": "ipython3",
   "version": "3.12.11"
  }
 },
 "nbformat": 4,
 "nbformat_minor": 2
}
