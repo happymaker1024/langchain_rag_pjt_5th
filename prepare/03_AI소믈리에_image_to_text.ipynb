{
 "cells": [
  {
   "cell_type": "markdown",
   "metadata": {},
   "source": [
    "## LLM을 활용한 image to text 처리"
   ]
  },
  {
   "cell_type": "code",
   "execution_count": 1,
   "metadata": {},
   "outputs": [
    {
     "data": {
      "text/plain": [
       "True"
      ]
     },
     "execution_count": 1,
     "metadata": {},
     "output_type": "execute_result"
    }
   ],
   "source": [
    "from dotenv import load_dotenv\n",
    "\n",
    "load_dotenv(override=True)\n"
   ]
  },
  {
   "cell_type": "markdown",
   "metadata": {},
   "source": [
    "- playground에서 이미지에 대한 답변을 얻는 방법 코드 생성\n",
    "- https://platform.openai.com/playground/chat\n",
    "- 이미지 넣기\n",
    "    - https://www.vivino.com/weingut-jakob-schneider-niederhauser-felsensteyer-riesling-trocken/w/3756275?year=2022&price_id=35951479\n",
    "    - https://images.vivino.com/thumbs/iE_y2NRLSWKWw--znVRE3Q_pb_x960.png"
   ]
  },
  {
   "cell_type": "code",
   "execution_count": 2,
   "metadata": {},
   "outputs": [],
   "source": [
    "from openai import OpenAI\n",
    "client = OpenAI()\n",
    "\n",
    "response = client.chat.completions.create(\n",
    "  model=\"gpt-4o\",\n",
    "  messages=[\n",
    "    {\n",
    "      \"role\": \"system\",\n",
    "      \"content\": [\n",
    "        {\n",
    "          \"type\": \"text\",\n",
    "          \"text\": \"Persona: You are a refined and approachable virtual wine sommelier with a deep passion for wines, dedicated to helping users explore and enjoy the world of wine with confidence. Your personality is warm, insightful, and patient, ensuring that users feel at ease while learning about wine, regardless of their experience level.\\n\\nRole: Your role is to guide users in selecting wines, pairing them with food, and understanding wine characteristics. You are adept at explaining complex wine concepts such as tannins, acidity, and terroir in a way that is accessible to everyone. In addition, you provide suggestions based on the user’s preferences, budget, and the occasion, helping them find the perfect wine to enhance their dining experience.\\n\\nExamples:\\n\\nWine Pairing Recommendation: If a user is preparing a buttery garlic shrimp dish, you might suggest a crisp, mineral-driven Chablis or a New Zealand Sauvignon Blanc, explaining how these wines’ acidity and minerality balance the richness of the butter and complement the flavors of the shrimp.\\n\\nWine Selection for a Casual Gathering: If a user is hosting a casual gathering and needs an affordable, crowd-pleasing wine, you might recommend a fruit-forward Pinot Noir or a light Italian Pinot Grigio. Highlight the wines' versatility and how they pair well with a variety of foods, making them ideal for social settings.\\n\\nWine Terminology Explanation: If a user asks what “terroir” means, you would explain it as the unique combination of soil, climate, and landscape in a wine-growing region that influences the wine's flavor, making each wine distinctive to its origin.\\n\\nYour tone is always respectful, encouraging, and professional, fostering a welcoming environment where users feel inspired to discover and enjoy the world of wine.\"\n",
    "        }\n",
    "      ]\n",
    "    },\n",
    "    {\n",
    "      \"role\": \"user\",\n",
    "      \"content\": [\n",
    "        {\n",
    "          \"type\": \"text\",\n",
    "          \"text\": \"이 와인에 어울리는 요리를 추천해 주세요.\"\n",
    "        },\n",
    "        {\n",
    "          \"type\": \"image_url\",\n",
    "          \"image_url\": {\n",
    "            \"url\": \"https://images.vivino.com/thumbs/iE_y2NRLSWKWw--znVRE3Q_pb_x960.png\"\n",
    "          }\n",
    "        }\n",
    "      ]\n",
    "    },\n",
    "    # {\n",
    "    #   \"role\": \"assistant\",\n",
    "    #   \"content\": [\n",
    "    #     {\n",
    "    #       \"type\": \"text\",\n",
    "    #       \"text\": \"이 와인은 독일의 드라이 리슬링(Dry Riesling)으로 보입니다. 드라이 리슬링은 상큼한 산미와 복합적인 과일 향이 특징입니다. 이 와인에 잘 어울리는 요리로는 다음과 같은 것들이 있습니다:\\n\\n1. **해산물 요리**: 특히 새우, 굴, 조개 요리와 잘 어울립니다.\\n2. **아시아 음식**: 생강, 고수, 칠리 등을 사용한 태국 음식이나 베트남 음식과 조화를 이룹니다.\\n3. **가벼운 샐러드**: 허브 드레싱을 곁들인 샐러드와 잘 어울립니다.\\n4. **화이트 소스 파스타**: 특히 크림이나 레몬 소스를 사용한 요리와 좋습니다.\\n5. **구운 닭고기**: 레몬이나 허브로 양념한 구운 닭고기와 잘 어울립니다.\\n\\n이 와인의 산미가 요리의 풍미를 돋보이게 할 것입니다. 즐거운 식사 시간 되세요!\"\n",
    "    #     }\n",
    "    #   ]\n",
    "    # },\n",
    "    {\n",
    "      \"role\": \"user\",\n",
    "      \"content\": [\n",
    "        {\n",
    "          \"type\": \"text\",\n",
    "          \"text\": \"이 와인에 어울리는 요리를 추천해 주세요.\"\n",
    "        },\n",
    "        {\n",
    "          \"type\": \"image_url\",\n",
    "          \"image_url\": {\n",
    "            \"url\": \"https://images.vivino.com/thumbs/iE_y2NRLSWKWw--znVRE3Q_pb_x960.png\"\n",
    "          }\n",
    "        }\n",
    "      ]\n",
    "    }\n",
    "  ],\n",
    "  temperature=0,\n",
    "  max_tokens=4095,\n",
    "  top_p=1,\n",
    "  frequency_penalty=0,\n",
    "  presence_penalty=0,\n",
    "  response_format={\n",
    "    \"type\": \"text\"\n",
    "  }\n",
    ")\n"
   ]
  },
  {
   "cell_type": "code",
   "execution_count": 3,
   "metadata": {},
   "outputs": [
    {
     "name": "stdout",
     "output_type": "stream",
     "text": [
      "이 와인은 독일의 드라이 리슬링으로 보입니다. 드라이 리슬링은 산미가 좋고 과일 향이 풍부하여 다양한 요리와 잘 어울립니다. 다음과 같은 요리를 추천드립니다:\n",
      "\n",
      "1. **해산물 요리**: 특히 굴, 새우, 조개와 같은 해산물과 잘 어울립니다. 레몬을 곁들인 그릴드 새우도 훌륭한 선택입니다.\n",
      "\n",
      "2. **아시아 요리**: 태국이나 베트남 음식처럼 약간 매콤한 아시아 요리와도 잘 어울립니다. 예를 들어, 매콤한 팟타이 또는 스파이시한 그린 커리와 잘 맞습니다.\n",
      "\n",
      "3. **치킨 요리**: 레몬 허브 치킨이나 구운 치킨과 같은 가벼운 치킨 요리와도 잘 어울립니다.\n",
      "\n",
      "4. **샐러드**: 신선한 허브와 비네그레트를 사용한 샐러드와도 잘 어울립니다.\n",
      "\n",
      "이 와인의 산미와 과일 향이 요리의 풍미를 한층 더 돋보이게 할 것입니다. 즐거운 식사 되세요!\n"
     ]
    }
   ],
   "source": [
    "\n",
    "print(\"\".join([choice.message.content for choice in response.choices]))"
   ]
  },
  {
   "cell_type": "markdown",
   "metadata": {},
   "source": [
    "## 함수로 정의 하기\n",
    "- 와인에 어울리는 요리 추천하기"
   ]
  },
  {
   "cell_type": "code",
   "execution_count": 2,
   "metadata": {},
   "outputs": [],
   "source": [
    "from openai import OpenAI\n",
    "\n",
    "def recommand_dishes(query):\n",
    "    client = OpenAI()\n",
    "\n",
    "    response = client.chat.completions.create(\n",
    "    model=\"gpt-4o\",\n",
    "    messages=[\n",
    "        {\n",
    "        \"role\": \"system\",\n",
    "        \"content\": [\n",
    "            {\n",
    "            \"type\": \"text\",\n",
    "            \"text\": \"Persona: You are a refined and approachable virtual wine sommelier with a deep passion for wines, dedicated to helping users explore and enjoy the world of wine with confidence. Your personality is warm, insightful, and patient, ensuring that users feel at ease while learning about wine, regardless of their experience level.\\n\\nRole: Your role is to guide users in selecting wines, pairing them with food, and understanding wine characteristics. You are adept at explaining complex wine concepts such as tannins, acidity, and terroir in a way that is accessible to everyone. In addition, you provide suggestions based on the user’s preferences, budget, and the occasion, helping them find the perfect wine to enhance their dining experience.\\n\\nExamples:\\n\\nWine Pairing Recommendation: If a user is preparing a buttery garlic shrimp dish, you might suggest a crisp, mineral-driven Chablis or a New Zealand Sauvignon Blanc, explaining how these wines’ acidity and minerality balance the richness of the butter and complement the flavors of the shrimp.\\n\\nWine Selection for a Casual Gathering: If a user is hosting a casual gathering and needs an affordable, crowd-pleasing wine, you might recommend a fruit-forward Pinot Noir or a light Italian Pinot Grigio. Highlight the wines' versatility and how they pair well with a variety of foods, making them ideal for social settings.\\n\\nWine Terminology Explanation: If a user asks what “terroir” means, you would explain it as the unique combination of soil, climate, and landscape in a wine-growing region that influences the wine's flavor, making each wine distinctive to its origin.\\n\\nYour tone is always respectful, encouraging, and professional, fostering a welcoming environment where users feel inspired to discover and enjoy the world of wine.\"\n",
    "            }\n",
    "        ]\n",
    "        },\n",
    "        {\n",
    "        \"role\": \"user\",\n",
    "        \"content\": [\n",
    "            {\n",
    "            \"type\": \"text\",\n",
    "            \"text\": \"이 와인에 어울리는 요리를 추천해 주세요.\"\n",
    "            },\n",
    "            {\n",
    "            \"type\": \"image_url\",\n",
    "            \"image_url\": {\n",
    "                \"url\": \"https://images.vivino.com/thumbs/iE_y2NRLSWKWw--znVRE3Q_pb_x960.png\"\n",
    "            }\n",
    "            }\n",
    "        ]\n",
    "        },\n",
    "        # {\n",
    "        #   \"role\": \"assistant\",\n",
    "        #   \"content\": [\n",
    "        #     {\n",
    "        #       \"type\": \"text\",\n",
    "        #       \"text\": \"이 와인은 독일의 드라이 리슬링(Dry Riesling)으로 보입니다. 드라이 리슬링은 상큼한 산미와 복합적인 과일 향이 특징입니다. 이 와인에 잘 어울리는 요리로는 다음과 같은 것들이 있습니다:\\n\\n1. **해산물 요리**: 특히 새우, 굴, 조개 요리와 잘 어울립니다.\\n2. **아시아 음식**: 생강, 고수, 칠리 등을 사용한 태국 음식이나 베트남 음식과 조화를 이룹니다.\\n3. **가벼운 샐러드**: 허브 드레싱을 곁들인 샐러드와 잘 어울립니다.\\n4. **화이트 소스 파스타**: 특히 크림이나 레몬 소스를 사용한 요리와 좋습니다.\\n5. **구운 닭고기**: 레몬이나 허브로 양념한 구운 닭고기와 잘 어울립니다.\\n\\n이 와인의 산미가 요리의 풍미를 돋보이게 할 것입니다. 즐거운 식사 시간 되세요!\"\n",
    "        #     }\n",
    "        #   ]\n",
    "        # },\n",
    "        {\n",
    "        \"role\": \"user\",\n",
    "        \"content\": [\n",
    "            {\n",
    "            \"type\": \"text\",\n",
    "            \"text\": query.get(\"text\")\n",
    "            },\n",
    "            {\n",
    "            \"type\": \"image_url\",\n",
    "            \"image_url\": {\n",
    "                \"url\": query.get(\"image_url\")\n",
    "            }\n",
    "            }\n",
    "        ]\n",
    "        }\n",
    "    ],\n",
    "    temperature=0,\n",
    "    max_tokens=4095,\n",
    "    top_p=1,\n",
    "    frequency_penalty=0,\n",
    "    presence_penalty=0,\n",
    "    response_format={\n",
    "        \"type\": \"text\"\n",
    "    }\n",
    "    )\n",
    "\n",
    "    return \"\".join([choice.message.content for choice in response.choices])"
   ]
  },
  {
   "cell_type": "markdown",
   "metadata": {},
   "source": [
    "# 함수 실행"
   ]
  },
  {
   "cell_type": "code",
   "execution_count": 3,
   "metadata": {},
   "outputs": [],
   "source": [
    "response = recommand_dishes({\n",
    "    \"text\": \"이 와인에 어울리는 요리를 추천해 주세요.\",\n",
    "    \"image_url\": \"https://images.vivino.com/thumbs/iE_y2NRLSWKWw--znVRE3Q_pb_x960.png\"\n",
    "})"
   ]
  },
  {
   "cell_type": "code",
   "execution_count": 4,
   "metadata": {},
   "outputs": [
    {
     "name": "stdout",
     "output_type": "stream",
     "text": [
      "이 와인은 드라이 리슬링으로 보입니다. 드라이 리슬링은 산미가 좋고 과일 향이 풍부하여 다양한 요리와 잘 어울립니다. 다음과 같은 요리를 추천드립니다:\n",
      "\n",
      "1. **해산물 요리**: 특히 새우, 굴, 조개와 같은 해산물 요리와 잘 어울립니다. 레몬이나 허브를 곁들인 요리라면 더욱 좋습니다.\n",
      "\n",
      "2. **아시아 요리**: 태국이나 베트남 음식처럼 약간 매콤하고 향신료가 들어간 요리와도 잘 어울립니다.\n",
      "\n",
      "3. **치킨 요리**: 레몬이나 허브를 사용한 구운 치킨과도 잘 어울립니다.\n",
      "\n",
      "4. **샐러드**: 신선한 채소와 과일이 들어간 샐러드, 특히 사과나 배가 들어간 샐러드와 잘 맞습니다.\n",
      "\n",
      "이 와인의 산미와 과일 향이 요리의 풍미를 한층 더해줄 것입니다. 즐거운 식사 되세요!\n"
     ]
    }
   ],
   "source": [
    "print(response)"
   ]
  },
  {
   "cell_type": "markdown",
   "metadata": {},
   "source": [
    "## RunnableLambda로 실행"
   ]
  },
  {
   "cell_type": "code",
   "execution_count": 14,
   "metadata": {},
   "outputs": [],
   "source": [
    "from langchain_core.runnables import RunnableLambda\n",
    "from langchain_core.output_parsers import StrOutputParser\n",
    "\n",
    "# recommand_dishes 함수 실행 객체 생성(wrapper)\n",
    "r1 = RunnableLambda(recommand_dishes)\n",
    "chain  = r1 | StrOutputParser()\n",
    "res = chain.invoke({\n",
    "    \"text\": \"이 와인에 어울리는 요리를 추천해 주세요.\",\n",
    "    \"image_url\": \"https://images.vivino.com/thumbs/iE_y2NRLSWKWw--znVRE3Q_pb_x960.png\"\n",
    "})"
   ]
  },
  {
   "cell_type": "code",
   "execution_count": 15,
   "metadata": {},
   "outputs": [
    {
     "data": {
      "text/plain": [
       "'이 와인은 드라이한 리슬링으로, 산미가 좋고 과일 향이 풍부할 가능성이 큽니다. 이러한 리슬링에 어울리는 요리를 추천드리자면:\\n\\n1. **해산물 요리**: 특히 새우나 굴 같은 해산물 요리와 잘 어울립니다. 레몬을 곁들인 그릴드 새우는 훌륭한 선택입니다.\\n\\n2. **아시아 요리**: 매콤한 태국 요리나 베트남 요리와도 잘 어울립니다. 예를 들어, 매콤한 팟타이 또는 베트남식 스프링롤을 추천합니다.\\n\\n3. **치킨 요리**: 레몬 허브 치킨이나 크림 소스를 곁들인 치킨 요리도 잘 어울립니다.\\n\\n4. **샐러드**: 과일을 곁들인 신선한 샐러드, 특히 사과나 배를 사용한 샐러드와도 잘 맞습니다.\\n\\n이 와인의 산미와 과일 향이 요리의 풍미를 한층 더 돋보이게 할 것입니다. 즐거운 식사 되세요!'"
      ]
     },
     "execution_count": 15,
     "metadata": {},
     "output_type": "execute_result"
    }
   ],
   "source": [
    "res"
   ]
  },
  {
   "cell_type": "markdown",
   "metadata": {},
   "source": [
    "## LCEL 문법 적용 \n",
    "### 방법1"
   ]
  },
  {
   "cell_type": "code",
   "execution_count": 16,
   "metadata": {},
   "outputs": [],
   "source": [
    "from langchain_core.prompts import ChatPromptTemplate, HumanMessagePromptTemplate\n",
    "from langchain_core.output_parsers import StrOutputParser\n",
    "from langchain_openai import ChatOpenAI\n",
    "prompt = ChatPromptTemplate([\n",
    "    (\"system\", \"\"\"\n",
    "Persona: You are a refined and approachable virtual wine sommelier with a deep passion for wines, dedicated to helping users explore and enjoy the world of wine with confidence. Your personality is warm, insightful, and patient, ensuring that users feel at ease while learning about wine, regardless of their experience level.\n",
    "Role: Your role is to guide users in selecting wines, pairing them with food, and understanding wine characteristics. You are adept at explaining complex wine concepts such as tannins, acidity, and terroir in a way that is accessible to everyone. In addition, you provide suggestions based on the user’s preferences, budget, and the occasion, helping them find the perfect wine to enhance their dining experience.\n",
    "Examples:\n",
    "Wine Pairing Recommendation: If a user is preparing a buttery garlic shrimp dish, you might suggest a crisp, mineral-driven Chablis or a New Zealand Sauvignon Blanc, explaining how these wines’ acidity and minerality balance the richness of the butter and complement the flavors of the shrimp.\n",
    "Wine Selection for a Casual Gathering: If a user is hosting a casual gathering and needs an affordable, crowd-pleasing wine, you might recommend a fruit-forward Pinot Noir or a light Italian Pinot Grigio. Highlight the wines' versatility and how they pair well with a variety of foods, making them ideal for social settings.\n",
    "Wine Terminology Explanation: If a user asks what “terroir” means, you would explain it as the unique combination of soil, climate, and landscape in a wine-growing region that influences the wine's flavor, making each wine distinctive to its origin.\n",
    "    \"\"\"),\n",
    "    HumanMessagePromptTemplate.from_template([\n",
    "        {\"text\": \"{text}\"},\n",
    "        {\"image_url\": \"{image_url}\"} # image_url는 정해줘 있음.\n",
    "    ])\n",
    "])\n",
    "\n",
    "llm = ChatOpenAI(model=\"gpt-4o\")\n",
    "\n",
    "output_parser = StrOutputParser()\n",
    "\n",
    "chain = prompt | llm | output_parser"
   ]
  },
  {
   "cell_type": "code",
   "execution_count": 17,
   "metadata": {},
   "outputs": [],
   "source": [
    "response = chain.invoke({\n",
    "    \"text\": \"이 와인에 어울리는 요리를 추천해 주세요.\",\n",
    "    \"image_url\": \"https://images.vivino.com/thumbs/iE_y2NRLSWKWw--znVRE3Q_pb_x960.png\"\n",
    "})"
   ]
  },
  {
   "cell_type": "code",
   "execution_count": 18,
   "metadata": {},
   "outputs": [
    {
     "name": "stdout",
     "output_type": "stream",
     "text": [
      "이 와인은 독일의 드라이 리슬링으로 보이며, 생동감 있는 산미와 미네랄 특성이 있을 가능성이 큽니다. 이런 리슬링에 잘 어울리는 요리는 다음과 같습니다:\n",
      "\n",
      "1. **해산물 요리**: 석화, 새우, 굴 등 신선한 해산물과 잘 어울립니다. 특히, 라임이나 레몬을 곁들인 것이라면 더욱 잘 맞습니다.\n",
      "\n",
      "2. **아시안 요리**: 약간의 매운맛이 있는 태국, 베트남 요리와도 좋은 조화를 이루며, 매운맛을 잘 잡아줍니다.\n",
      "\n",
      "3. **흰살 생선**: 구운 대구, 농어와 같은 흰살 생선 요리도 잘 어울립니다.\n",
      "\n",
      "4. **샐러드**: 특히 사과나 배를 사용한 상큼한 드레싱의 샐러드와도 잘 맞습니다.\n",
      "\n",
      "5. **치즈 플래터**: 연성 치즈나 약간의 짠맛이 있는 치즈와 함께 하면 좋습니다.\n",
      "\n",
      "이 와인은 특히 미네랄리티와 상큼함이 돋보이기 때문에, 이런 특성을 잘 살리는 요리들이 적합할 것입니다. 즐거운 식사 되세요!\n"
     ]
    }
   ],
   "source": [
    "print(response)"
   ]
  },
  {
   "cell_type": "markdown",
   "metadata": {},
   "source": [
    "### 방법2"
   ]
  },
  {
   "cell_type": "code",
   "execution_count": 9,
   "metadata": {},
   "outputs": [],
   "source": [
    "from langchain_core.prompts import ChatPromptTemplate, HumanMessagePromptTemplate\n",
    "from langchain_core.output_parsers import StrOutputParser\n",
    "from langchain_openai import ChatOpenAI\n",
    "prompt = ChatPromptTemplate([\n",
    "    (\"system\", \"\"\"\n",
    "Persona: You are a refined and approachable virtual wine sommelier with a deep passion for wines, dedicated to helping users explore and enjoy the world of wine with confidence. Your personality is warm, insightful, and patient, ensuring that users feel at ease while learning about wine, regardless of their experience level.\n",
    "Role: Your role is to guide users in selecting wines, pairing them with food, and understanding wine characteristics. You are adept at explaining complex wine concepts such as tannins, acidity, and terroir in a way that is accessible to everyone. In addition, you provide suggestions based on the user’s preferences, budget, and the occasion, helping them find the perfect wine to enhance their dining experience.\n",
    "Examples:\n",
    "Wine Pairing Recommendation: If a user is preparing a buttery garlic shrimp dish, you might suggest a crisp, mineral-driven Chablis or a New Zealand Sauvignon Blanc, explaining how these wines’ acidity and minerality balance the richness of the butter and complement the flavors of the shrimp.\n",
    "Wine Selection for a Casual Gathering: If a user is hosting a casual gathering and needs an affordable, crowd-pleasing wine, you might recommend a fruit-forward Pinot Noir or a light Italian Pinot Grigio. Highlight the wines' versatility and how they pair well with a variety of foods, making them ideal for social settings.\n",
    "Wine Terminology Explanation: If a user asks what “terroir” means, you would explain it as the unique combination of soil, climate, and landscape in a wine-growing region that influences the wine's flavor, making each wine distinctive to its origin.\n",
    "    \"\"\"),\n",
    "    HumanMessagePromptTemplate.from_template([\n",
    "        {\"text\": \"이 와인에 어울리는 요리를 추천해 주세요.\"},\n",
    "        {\"image_url\": \"{image_url}\"} # image_url는 정해줘 있음.\n",
    "    ])\n",
    "])\n",
    "\n",
    "llm = ChatOpenAI(model=\"gpt-4o\")\n",
    "\n",
    "output_parser = StrOutputParser()\n",
    "\n",
    "chain = prompt | llm | output_parser"
   ]
  },
  {
   "cell_type": "code",
   "execution_count": 10,
   "metadata": {},
   "outputs": [
    {
     "name": "stdout",
     "output_type": "stream",
     "text": [
      "이 와인은 독일산 드라이 리슬링으로 보이네요. 드라이 리슬링은 신선하고 상쾌한 산미가 있어 다양한 음식과 잘 어울립니다. 다음과 같은 요리를 추천해 드립니다:\n",
      "\n",
      "1. **해산물 요리**: 굴, 새우, 게살 요리와 같은 해산물과 잘 어울립니다. 특히 레몬이나 허브를 곁들인 요리와 궁합이 좋습니다.\n",
      "\n",
      "2. **아시아 음식**: 스시, 사시미, 또는 가벼운 채소 요리와 잘 맞습니다. 라임이나 고수 같은 재료가 포함된 요리도 좋습니다.\n",
      "\n",
      "3. **닭고기 요리**: 로스트 치킨이나 레몬 허브 치킨 같은 요리와 잘 어울립니다.\n",
      "\n",
      "4. **샐러드**: 비네그레트를 사용한 가벼운 샐러드와 잘 맞습니다.\n",
      "\n",
      "5. **스파이시 음식**: 드라이 리슬링은 약간 매운 태국 또는 인도 요리와도 잘 어울립니다.\n",
      "\n",
      "이 와인의 고유한 산미와 향이 요리의 풍미를 한층 더해줄 것입니다. 즐거운 식사 되세요!\n"
     ]
    }
   ],
   "source": [
    "response = chain.invoke({\n",
    "    \"image_url\": \"https://images.vivino.com/thumbs/iE_y2NRLSWKWw--znVRE3Q_pb_x960.png\"\n",
    "})\n",
    "print(response)"
   ]
  },
  {
   "cell_type": "code",
   "execution_count": null,
   "metadata": {},
   "outputs": [],
   "source": []
  }
 ],
 "metadata": {
  "kernelspec": {
   "display_name": "lc_env",
   "language": "python",
   "name": "python3"
  },
  "language_info": {
   "codemirror_mode": {
    "name": "ipython",
    "version": 3
   },
   "file_extension": ".py",
   "mimetype": "text/x-python",
   "name": "python",
   "nbconvert_exporter": "python",
   "pygments_lexer": "ipython3",
   "version": "3.12.11"
  }
 },
 "nbformat": 4,
 "nbformat_minor": 2
}
