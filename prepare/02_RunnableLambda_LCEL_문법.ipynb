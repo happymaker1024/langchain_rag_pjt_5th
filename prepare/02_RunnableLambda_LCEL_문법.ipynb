{
 "cells": [
  {
   "cell_type": "markdown",
   "metadata": {},
   "source": [
    "## RunnableLambda 객체 사용방법"
   ]
  },
  {
   "cell_type": "code",
   "execution_count": 2,
   "metadata": {},
   "outputs": [
    {
     "name": "stdout",
     "output_type": "stream",
     "text": [
      "20\n"
     ]
    }
   ],
   "source": [
    "from langchain_core.runnables import RunnableLambda\n",
    "\n",
    "# 함수 정의\n",
    "def func(x):\n",
    "    return  x*2\n",
    "\n",
    "# 함수를 전달인자로 넣기\n",
    "runnable_1 = RunnableLambda(func)\n",
    "\n",
    "# RunnableLambda를 통한 함수 실행\n",
    "print(runnable_1.invoke(10))"
   ]
  },
  {
   "cell_type": "code",
   "execution_count": 2,
   "metadata": {},
   "outputs": [
    {
     "name": "stdout",
     "output_type": "stream",
     "text": [
      "20\n"
     ]
    }
   ],
   "source": [
    "# RunnableLambda 객체 사용\n",
    "runnable_1 = RunnableLambda(lambda x: x*2)\n",
    "print(runnable_1.invoke(10))"
   ]
  },
  {
   "cell_type": "code",
   "execution_count": 3,
   "metadata": {},
   "outputs": [
    {
     "name": "stdout",
     "output_type": "stream",
     "text": [
      "[20, 40, 60]\n"
     ]
    }
   ],
   "source": [
    "# runnable batch\n",
    "runnable_3 = RunnableLambda(func)\n",
    "\n",
    "print(runnable_3.batch([10, 20, 30]))"
   ]
  },
  {
   "cell_type": "markdown",
   "metadata": {},
   "source": [
    "- 함수 값을 return 으로 반환"
   ]
  },
  {
   "cell_type": "code",
   "execution_count": 4,
   "metadata": {},
   "outputs": [
    {
     "name": "stdout",
     "output_type": "stream",
     "text": [
      "<class 'generator'>\n",
      "<generator object RunnableLambda.transform at 0x000001F69E6C9040>\n",
      "<class 'int'>\n",
      "0\n"
     ]
    }
   ],
   "source": [
    "def gen(x):\n",
    "    for y in x :\n",
    "        return y * 2  \n",
    "    \n",
    "\n",
    "# runnable \n",
    "runnable_4 = RunnableLambda(gen)\n",
    "print(type(runnable_4.stream(range(10))))\n",
    "print(runnable_4.stream(range(10)))\n",
    "\n",
    "for chunk in runnable_4.stream(range(10)):\n",
    "    print(type(chunk))\n",
    "    print(chunk)\n"
   ]
  },
  {
   "cell_type": "markdown",
   "metadata": {},
   "source": [
    "- yield로 유지"
   ]
  },
  {
   "cell_type": "code",
   "execution_count": null,
   "metadata": {},
   "outputs": [
    {
     "name": "stdout",
     "output_type": "stream",
     "text": [
      "0\n",
      "2\n",
      "4\n",
      "6\n",
      "8\n",
      "10\n",
      "12\n",
      "14\n",
      "16\n",
      "18\n"
     ]
    }
   ],
   "source": [
    "def gen(x):\n",
    "    for y in x :\n",
    "        yield y * 2   # 값을 반환하지만 함수는 계속 유지 (return은 반환하고 종료)\n",
    "\n",
    "# runnable \n",
    "runnable_4 = RunnableLambda(gen)\n",
    "for chunk in runnable_4.stream(range(10)):\n",
    "    print(chunk)\n"
   ]
  },
  {
   "cell_type": "markdown",
   "metadata": {},
   "source": [
    "## 순차적으로 실행하게 하기"
   ]
  },
  {
   "cell_type": "code",
   "execution_count": 15,
   "metadata": {},
   "outputs": [
    {
     "data": {
      "text/plain": [
       "32"
      ]
     },
     "execution_count": 15,
     "metadata": {},
     "output_type": "execute_result"
    }
   ],
   "source": [
    "from langchain_core.runnables import RunnableLambda, RunnableSequence\n",
    "\n",
    "r1 = RunnableLambda(lambda x: 3 * x)\n",
    "r2 = RunnableLambda(lambda x: x + 2)\n",
    "\n",
    "chain = r1 | r2\n",
    "\n",
    "chain.invoke(10)\n",
    "\n"
   ]
  },
  {
   "cell_type": "markdown",
   "metadata": {},
   "source": [
    "# "
   ]
  },
  {
   "cell_type": "code",
   "execution_count": 16,
   "metadata": {},
   "outputs": [
    {
     "data": {
      "text/plain": [
       "32"
      ]
     },
     "execution_count": 16,
     "metadata": {},
     "output_type": "execute_result"
    }
   ],
   "source": [
    "from langchain_core.runnables import RunnableLambda, RunnableParallel\n",
    "\n",
    "r1 = RunnableLambda(lambda x: 3 * x)\n",
    "r2 = RunnableLambda(lambda x: x + 2)\n",
    "\n",
    "# chain = r1 | r2  # 아래와 같은 표현\n",
    "chain = RunnableSequence(r1, r2)\n",
    "\n",
    "chain.invoke(10)"
   ]
  },
  {
   "cell_type": "code",
   "execution_count": 9,
   "metadata": {},
   "outputs": [
    {
     "data": {
      "text/plain": [
       "{'first': 30, 'second': 12}"
      ]
     },
     "execution_count": 9,
     "metadata": {},
     "output_type": "execute_result"
    }
   ],
   "source": [
    "from langchain_core.runnables import RunnableLambda, RunnableParallel\n",
    "\n",
    "r1 = RunnableLambda(lambda x: 3 * x)\n",
    "r2 = RunnableLambda(lambda x: x + 2)\n",
    "\n",
    "# 병렬처리 , r1, r2 키는 임으로 설정해 주면 됨.\n",
    "# chain = RunnableParallel(r1=r1, r2=r2)\n",
    "chain = RunnableParallel(first=r1, second=r2)\n",
    "\n",
    "chain.invoke(10)"
   ]
  },
  {
   "cell_type": "code",
   "execution_count": 22,
   "metadata": {},
   "outputs": [
    {
     "name": "stdout",
     "output_type": "stream",
     "text": [
      "Note: you may need to restart the kernel to use updated packages.\n"
     ]
    }
   ],
   "source": [
    "# 그래프 그리기 알고리즘 \n",
    "%pip install -qU grandalf"
   ]
  },
  {
   "cell_type": "code",
   "execution_count": null,
   "metadata": {},
   "outputs": [],
   "source": []
  },
  {
   "cell_type": "code",
   "execution_count": 7,
   "metadata": {},
   "outputs": [
    {
     "data": {
      "text/plain": [
       "[{'foo': 2}, {'foo': 2}, {'foo': 2}]"
      ]
     },
     "execution_count": 7,
     "metadata": {},
     "output_type": "execute_result"
    }
   ],
   "source": [
    "[{\"foo\":2}]*3"
   ]
  },
  {
   "cell_type": "code",
   "execution_count": 30,
   "metadata": {},
   "outputs": [
    {
     "name": "stdout",
     "output_type": "stream",
     "text": [
      "{'r2': [{'foo': 2}, {'foo': 2}, {'foo': 2}], 'r3': \"{'foo': 2}\"}\n",
      "        +-------------+        \n",
      "        | LambdaInput |        \n",
      "        +-------------+        \n",
      "               *               \n",
      "               *               \n",
      "               *               \n",
      "          +--------+           \n",
      "          | Lambda |           \n",
      "          +--------+           \n",
      "               *               \n",
      "               *               \n",
      "               *               \n",
      "   +----------------------+    \n",
      "   | Parallel<r2,r3>Input |    \n",
      "   +----------------------+    \n",
      "          *         *          \n",
      "        **           **        \n",
      "       *               *       \n",
      "+--------+          +--------+ \n",
      "| Lambda |          | Lambda | \n",
      "+--------+          +--------+ \n",
      "          *         *          \n",
      "           **     **           \n",
      "             *   *             \n",
      "  +-----------------------+    \n",
      "  | Parallel<r2,r3>Output |    \n",
      "  +-----------------------+    \n"
     ]
    }
   ],
   "source": [
    "from langchain_core.runnables import RunnableLambda, RunnableParallel\n",
    "\n",
    "runnable_1 = RunnableLambda(lambda x: {\"foo\": x})\n",
    "runnable_2 = RunnableLambda(lambda x: [x] * 3)\n",
    "runnable_3 = RunnableLambda(lambda x: str(x))\n",
    "\n",
    "chain = runnable_1 | RunnableParallel(r2=runnable_2, r3=runnable_3)\n",
    "\n",
    "print(chain.invoke(2))\n",
    "chain.get_graph().print_ascii()"
   ]
  },
  {
   "cell_type": "markdown",
   "metadata": {},
   "source": [
    "## LCEL 문법 적용"
   ]
  },
  {
   "cell_type": "markdown",
   "metadata": {},
   "source": [
    "- 방법1"
   ]
  },
  {
   "cell_type": "code",
   "execution_count": 24,
   "metadata": {},
   "outputs": [],
   "source": [
    "from langchain_openai import ChatOpenAI\n",
    "llm = ChatOpenAI(model=\"gpt-4o\")"
   ]
  },
  {
   "cell_type": "code",
   "execution_count": 25,
   "metadata": {},
   "outputs": [
    {
     "name": "stdout",
     "output_type": "stream",
     "text": [
      "content='안녕하세요! 벡터 검색과 관련하여 궁금한 점이 있으면 언제든지 물어보세요. 어떻게 도와드릴까요?' additional_kwargs={'refusal': None} response_metadata={'token_usage': {'completion_tokens': 32, 'prompt_tokens': 42, 'total_tokens': 74, 'completion_tokens_details': {'accepted_prediction_tokens': 0, 'audio_tokens': 0, 'reasoning_tokens': 0, 'rejected_prediction_tokens': 0}, 'prompt_tokens_details': {'audio_tokens': 0, 'cached_tokens': 0}}, 'model_name': 'gpt-4o-2024-08-06', 'system_fingerprint': 'fp_07871e2ad8', 'id': 'chatcmpl-BkKAzEVLARudAe0AAkQxNd2XeaPEj', 'service_tier': 'default', 'finish_reason': 'stop', 'logprobs': None} id='run--f826554e-bc9d-4ead-afc8-e097bc6ee8ec-0' usage_metadata={'input_tokens': 42, 'output_tokens': 32, 'total_tokens': 74, 'input_token_details': {'audio': 0, 'cache_read': 0}, 'output_token_details': {'audio': 0, 'reasoning': 0}}\n"
     ]
    }
   ],
   "source": [
    "from langchain_core.prompts import ChatPromptTemplate\n",
    "\n",
    "prompt = ChatPromptTemplate.from_template(\"\"\"\n",
    "    다음 컨텍스트에 대해서만 답하세요.\n",
    "    컨텍스트 :\n",
    "    {context}\n",
    "    질문:\n",
    "    {query}\n",
    "\"\"\")\n",
    "\n",
    "chain = prompt | llm\n",
    "input = {\n",
    "            \"context\": \"Vector Search에 의한 컨텐스트 내용\", \n",
    "            \"query\": \"안녕\"\n",
    "        }\n",
    "print(chain.invoke(input))"
   ]
  },
  {
   "cell_type": "markdown",
   "metadata": {},
   "source": [
    "- 방법2 RunnableLambda 사용"
   ]
  },
  {
   "cell_type": "code",
   "execution_count": 26,
   "metadata": {},
   "outputs": [],
   "source": [
    "from langchain_core.prompts import ChatPromptTemplate\n",
    "from langchain_core.runnables import RunnableLambda\n",
    "\n",
    "prompt = ChatPromptTemplate.from_template(\"\"\"\n",
    "    다음 컨텍스트에 대해서만 답하세요.\n",
    "    컨텍스트 :\n",
    "    {context}\n",
    "    질문:\n",
    "    {query}\n",
    "\"\"\")\n",
    "\n",
    "# 기본값을 제공하는 함수\n",
    "def add_default_values(input_dict):\n",
    "    return {\n",
    "        \"context\": input_dict.get(\"context\", \"Vector Search에 의한 컨텐스트 내용\"),\n",
    "        \"query\": input_dict.get(\"query\", \"안녕\")\n",
    "    }\n",
    "\n",
    "\n",
    "# 체인 구성\n",
    "chain = RunnableLambda(add_default_values) | prompt | llm\n"
   ]
  },
  {
   "cell_type": "code",
   "execution_count": 27,
   "metadata": {},
   "outputs": [
    {
     "name": "stdout",
     "output_type": "stream",
     "text": [
      "content='안녕하세요! 어떻게 도와드릴까요? Vector Search에 대해 궁금한 점이 있으신가요?' additional_kwargs={'refusal': None} response_metadata={'token_usage': {'completion_tokens': 24, 'prompt_tokens': 42, 'total_tokens': 66, 'completion_tokens_details': {'accepted_prediction_tokens': 0, 'audio_tokens': 0, 'reasoning_tokens': 0, 'rejected_prediction_tokens': 0}, 'prompt_tokens_details': {'audio_tokens': 0, 'cached_tokens': 0}}, 'model_name': 'gpt-4o-2024-08-06', 'system_fingerprint': 'fp_a288987b44', 'id': 'chatcmpl-BkKB37b5dwnmKkPEY4dZ0lJHGd6WI', 'service_tier': 'default', 'finish_reason': 'stop', 'logprobs': None} id='run--3d2b5caf-1574-4c0b-b1a4-6da65520da40-0' usage_metadata={'input_tokens': 42, 'output_tokens': 24, 'total_tokens': 66, 'input_token_details': {'audio': 0, 'cache_read': 0}, 'output_token_details': {'audio': 0, 'reasoning': 0}}\n"
     ]
    }
   ],
   "source": [
    "# 빈 딕셔너리로도 실행 가능\n",
    "result = chain.invoke({})\n",
    "print(result)"
   ]
  },
  {
   "cell_type": "code",
   "execution_count": 28,
   "metadata": {},
   "outputs": [
    {
     "name": "stdout",
     "output_type": "stream",
     "text": [
      "content='RunnableLambda는 자바에서 람다식을 사용하여 Runnable 인터페이스의 인스턴스를 간결하게 생성할 수 있게 해주는 표현 방식입니다.' additional_kwargs={'refusal': None} response_metadata={'token_usage': {'completion_tokens': 34, 'prompt_tokens': 52, 'total_tokens': 86, 'completion_tokens_details': {'accepted_prediction_tokens': 0, 'audio_tokens': 0, 'reasoning_tokens': 0, 'rejected_prediction_tokens': 0}, 'prompt_tokens_details': {'audio_tokens': 0, 'cached_tokens': 0}}, 'model_name': 'gpt-4o-2024-08-06', 'system_fingerprint': 'fp_07871e2ad8', 'id': 'chatcmpl-BkKB5ZCC2AfptjAsygqmolMgkSbPm', 'service_tier': 'default', 'finish_reason': 'stop', 'logprobs': None} id='run--fe492fd7-5839-4a52-a6af-c051a852c1f0-0' usage_metadata={'input_tokens': 52, 'output_tokens': 34, 'total_tokens': 86, 'input_token_details': {'audio': 0, 'cache_read': 0}, 'output_token_details': {'audio': 0, 'reasoning': 0}}\n"
     ]
    }
   ],
   "source": [
    "# 또는 일부 값만 override\n",
    "result2 = chain.invoke({\"query\": \"RunnableLambda에 대해 1문장으로 설명해줘\"})\n",
    "print(result2)"
   ]
  },
  {
   "cell_type": "markdown",
   "metadata": {},
   "source": [
    "- Runnable 객체를 만들면 pipeline에 태울 수 있다는 것을 아는게 중요함."
   ]
  },
  {
   "cell_type": "markdown",
   "metadata": {},
   "source": [
    "# 실행을 그래프로 시각화 하기"
   ]
  },
  {
   "cell_type": "code",
   "execution_count": 29,
   "metadata": {},
   "outputs": [
    {
     "name": "stdout",
     "output_type": "stream",
     "text": [
      "+--------------------------+ \n",
      "| add_default_values_input | \n",
      "+--------------------------+ \n",
      "              *              \n",
      "              *              \n",
      "              *              \n",
      "   +--------------------+    \n",
      "   | add_default_values |    \n",
      "   +--------------------+    \n",
      "              *              \n",
      "              *              \n",
      "              *              \n",
      "   +--------------------+    \n",
      "   | ChatPromptTemplate |    \n",
      "   +--------------------+    \n",
      "              *              \n",
      "              *              \n",
      "              *              \n",
      "       +------------+        \n",
      "       | ChatOpenAI |        \n",
      "       +------------+        \n",
      "              *              \n",
      "              *              \n",
      "              *              \n",
      "    +------------------+     \n",
      "    | ChatOpenAIOutput |     \n",
      "    +------------------+     \n"
     ]
    }
   ],
   "source": [
    "chain.get_graph().print_ascii()"
   ]
  }
 ],
 "metadata": {
  "kernelspec": {
   "display_name": "lc_env",
   "language": "python",
   "name": "python3"
  },
  "language_info": {
   "codemirror_mode": {
    "name": "ipython",
    "version": 3
   },
   "file_extension": ".py",
   "mimetype": "text/x-python",
   "name": "python",
   "nbconvert_exporter": "python",
   "pygments_lexer": "ipython3",
   "version": "3.12.11"
  }
 },
 "nbformat": 4,
 "nbformat_minor": 2
}
